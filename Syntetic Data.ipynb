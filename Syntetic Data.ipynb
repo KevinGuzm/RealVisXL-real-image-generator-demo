{
 "cells": [
  {
   "metadata": {},
   "cell_type": "markdown",
   "source": "# Multi GPU T4 Syntetic Data Process",
   "id": "f408d9fc22e3566b"
  },
  {
   "cell_type": "code",
   "execution_count": null,
   "id": "initial_id",
   "metadata": {
    "collapsed": true
   },
   "outputs": [],
   "source": [
    "%%capture\n",
    "!pip install torch\n",
    "!pip install diffusers"
   ]
  },
  {
   "metadata": {},
   "cell_type": "code",
   "outputs": [],
   "execution_count": null,
   "source": [
    "import random\n",
    "import os\n",
    "import threading\n",
    "import torch\n",
    "import boto3\n",
    "from diffusers import DiffusionPipeline\n",
    "from io import BytesIO\n",
    "from kaggle_secrets import UserSecretsClient\n",
    "user_secrets = UserSecretsClient()\n",
    "secret_value_0 = user_secrets.get_secret(\"aws_access_key_id\")\n",
    "secret_value_1 = user_secrets.get_secret(\"aws_secret_access_key\")\n",
    "\n",
    "# Configurar cliente de S3\n",
    "s3 = boto3.client(\n",
    "    's3',\n",
    "    aws_access_key_id=secret_value_0,\n",
    "    aws_secret_access_key=secret_value_1\n",
    ")\n",
    "BUCKET_NAME = 'faces-bucket-emotion'  # Cambia esto al nombre de tu bucket de S3\n",
    "DIRECTORIO_BASE = 'faces'\n",
    "# Crear las carpetas base en S3 para cada emoción\n",
    "emociones = ['happy', 'surprised', 'angry', 'sad']\n",
    "\n",
    "# Cargar los pipelines\n",
    "#--\"RunDiffusion/RunDiffusion-XL\"\n",
    "#--\"SG161222/RealVisXL_V4.0\" (best)\n",
    "pipeline0 = DiffusionPipeline.from_pretrained(\"SG161222/RealVisXL_V4.0\", torch_dtype=torch.float16).to('cuda:0')\n",
    "pipeline1 = DiffusionPipeline.from_pretrained(\"SG161222/RealVisXL_V4.0\", torch_dtype=torch.float16).to('cuda:1')"
   ],
   "id": "f657fa9df45e5b5e"
  },
  {
   "metadata": {},
   "cell_type": "code",
   "outputs": [],
   "execution_count": null,
   "source": [
    "# Definir la función para ejecutar el pipeline y guardar la imagen en S3\n",
    "def exe_pipe(pipeline, prompt, emotion, index, negative_prompt):\n",
    "    print(f'Ejecutando prompt: {prompt}')\n",
    "    img = pipeline(prompt, negative_prompt=negative_prompt).images[0]\n",
    "    # Guardar la imagen en S3\n",
    "    img_bytes = BytesIO()\n",
    "    img.save(img_bytes, format='PNG')\n",
    "    img_bytes.seek(0)\n",
    "    s3_path = f'{DIRECTORIO_BASE}/{emotion}/{emotion}_{index}.png'\n",
    "    s3.upload_fileobj(img_bytes, BUCKET_NAME, s3_path)\n",
    "    print(f'Imagen guardada en S3: {s3_path}')\n",
    "\n",
    "# Definir las etnicidades y géneros\n",
    "ethnicities = ['a latino', 'a white', 'a black', 'a middle eastern', 'an indian', 'an asian']\n",
    "genders = ['male', 'female']\n",
    "\n",
    "# Definir los prompts de emoción\n",
    "emotion_prompts = {\n",
    "    'happy': 'smiling',\n",
    "    'surprised': 'surprised, opened mouth, raised eyebrows',\n",
    "    'angry': 'angry',\n",
    "    'sad': 'frowning, sad face expression, crying'\n",
    "}\n",
    "\n",
    "# Definir el negative prompt para evitar ciertos elementos no deseados\n",
    "negative_prompts = [\n",
    "    \"blurry image\", \n",
    "    \"low quality\", \n",
    "    \"bad lighting\", \n",
    "    \"distorted face\", \n",
    "    \"deformed hands\", \n",
    "    \"extra limbs\", \n",
    "    \"unnatural skin tones\"\n",
    "]\n",
    "\n",
    "def generar_caras(pipeline, emociones):\n",
    "    for emotion in emociones:\n",
    "        for i in range(50):\n",
    "            ethnicity = random.choice(ethnicities)\n",
    "            gender = random.choice(genders)\n",
    "            emotion_prompt = emotion_prompts[emotion]\n",
    "\n",
    "            prompt = f\"Medium-shot portrait of {ethnicity} {gender}, {emotion_prompt}, front view, looking at the camera, color photography, photorealistic, hyperrealistic, realistic, incredibly detailed, crisp focus, digital art, depth of field, 50mm, 8k\"\n",
    "\n",
    "            # Ejecutar el pipeline y guardar la imagen, ahora con negative_prompt\n",
    "            exe_pipe(pipeline, prompt, emotion, i, negative_prompt=\", \".join(negative_prompts))\n",
    "\n"
   ],
   "id": "d3535251e0fd2764"
  },
  {
   "metadata": {},
   "cell_type": "code",
   "outputs": [],
   "execution_count": null,
   "source": [
    "# Crear y ejecutar los hilos\n",
    "hilo0 = threading.Thread(target=generar_caras, args=(pipeline0, ['happy', 'surprised']))\n",
    "hilo1 = threading.Thread(target=generar_caras, args=(pipeline1, ['angry', 'sad']))\n",
    "\n",
    "hilo0.start()\n",
    "hilo1.start()"
   ],
   "id": "6bc2fe56ccafecfe"
  },
  {
   "metadata": {},
   "cell_type": "code",
   "outputs": [],
   "execution_count": null,
   "source": "",
   "id": "c38f599f9ee914c1"
  }
 ],
 "metadata": {
  "kernelspec": {
   "display_name": "Python 3",
   "language": "python",
   "name": "python3"
  },
  "language_info": {
   "codemirror_mode": {
    "name": "ipython",
    "version": 2
   },
   "file_extension": ".py",
   "mimetype": "text/x-python",
   "name": "python",
   "nbconvert_exporter": "python",
   "pygments_lexer": "ipython2",
   "version": "2.7.6"
  }
 },
 "nbformat": 4,
 "nbformat_minor": 5
}
